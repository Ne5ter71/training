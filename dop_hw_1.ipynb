{
  "cells": [
    {
      "cell_type": "markdown",
      "metadata": {
        "id": "view-in-github",
        "colab_type": "text"
      },
      "source": [
        "<a href=\"https://colab.research.google.com/github/Ne5ter71/training/blob/Main/dop_hw_1.ipynb\" target=\"_parent\"><img src=\"https://colab.research.google.com/assets/colab-badge.svg\" alt=\"Open In Colab\"/></a>"
      ]
    },
    {
      "cell_type": "markdown",
      "metadata": {
        "id": "9IyElJ0smQHm"
      },
      "source": [
        "Домашнее задание по теме **\"Введение в язык программирования Python\"**\n",
        "\n",
        "Подготовил: С.П. Строев\n",
        "\n",
        "Обязательность выполнения: по желанию."
      ]
    },
    {
      "cell_type": "markdown",
      "metadata": {
        "id": "x8KfHUpsmvU4"
      },
      "source": [
        "**Задание 1**. Работа со списками. \n",
        "\n",
        "Методы для работы со списками можно посмотреть [здесь](https://pythonworld.ru/tipy-dannyx-v-python/spiski-list-funkcii-i-metody-spiskov.html).  \n",
        "\n",
        "Используя функции `range()` и `list()`, задайте список чисел в интервале $(1,20)$ с шагом 3. \n",
        "\n",
        "Для данного списка выполните следующие преобразования: \n",
        "1. С помощью функции `print()` напечатайте длину списка;\n",
        "2. Выведите все элементы списка, начиная со второй позиции; \n",
        "3. Выведите все четные элементы списка;\n",
        "4. Выведите все элементы спсика, делящиеся на 5 без остатка. Если таких элементов нет, то должна выводиться надпись \"Элементов, делящихся на 5, нет\". Допускается использовать цикл `for`;\n",
        "5. Отсортируйте список в порядке убывания;\n",
        "6. Используя функции `map()` и `pow()`, рассчитайте квадраты элементов исходного списка. *Подсказка: для того, чтобы задать список из одинаковых элементов требуемой длины можно воспользоваться следующей конструкцией:\n",
        "```python\n",
        ">>> lenght = 3\n",
        ">>> [2]*lenght\n",
        "[2,2,2]\n",
        "```     \n",
        "где `lenght` -- число, определяющее требуемое количество элементов списка;\n",
        "7. Используя срезы, выведите элементы списка в обратном порядке;\n",
        "8. Рассчитайте для элементов списка выборочное среднее. <u>Использовать специальные библиотеки и встроенные методы нельзя</u>. Напомним, что для набора чисел $x_i$, $i=\\overline{1,n}$, выборочное среднее определяется по следующей формуле \n",
        "\n",
        "$$\n",
        "\\bar{x} = \\dfrac{1}{n}\\sum\\limits_{i=1}^{x}x_i.\n",
        "$$    \n",
        "\n",
        "\n",
        "<u>Для удобства оформляйте каждый пункт задания в отдельной ячейке.</u>"
      ]
    },
    {
      "cell_type": "code",
      "execution_count": 2,
      "metadata": {
        "id": "NxS-U9sftFg2",
        "colab": {
          "base_uri": "https://localhost:8080/"
        },
        "outputId": "2734c21b-7daf-4d94-87c4-d084aa326d53"
      },
      "outputs": [
        {
          "output_type": "stream",
          "name": "stdout",
          "text": [
            "7\n"
          ]
        }
      ],
      "source": [
        "# ваше решение здесь\n",
        "# генерация списка\n",
        "list_1 = list(range(1,20,3))\n",
        "# 1. длина списка\n",
        "print(len(list_1))"
      ]
    },
    {
      "cell_type": "code",
      "source": [
        "# 2. Вывод со второй позиции\n",
        "print(list_1[1:])"
      ],
      "metadata": {
        "colab": {
          "base_uri": "https://localhost:8080/"
        },
        "id": "6GrtXY6ijM32",
        "outputId": "c93a6b20-7431-4db8-a985-515ef7e298e6"
      },
      "execution_count": 3,
      "outputs": [
        {
          "output_type": "stream",
          "name": "stdout",
          "text": [
            "[4, 7, 10, 13, 16, 19]\n"
          ]
        }
      ]
    },
    {
      "cell_type": "code",
      "source": [
        "# 3. вывод четных\n",
        "print([num for num in list_1 if num % 2 == 0])"
      ],
      "metadata": {
        "colab": {
          "base_uri": "https://localhost:8080/"
        },
        "id": "gOP35GtyjXBY",
        "outputId": "2b1d73ce-58d8-4c16-e095-a7c1094dbb41"
      },
      "execution_count": 4,
      "outputs": [
        {
          "output_type": "stream",
          "name": "stdout",
          "text": [
            "[4, 10, 16]\n"
          ]
        }
      ]
    },
    {
      "cell_type": "code",
      "source": [
        "# 4.Вывод списка /5\n",
        "list_2 = [num for num in list_1 if num % 5 == 0]\n",
        "if len(list_2) == 0:\n",
        "  print('Элементов, делящихся на 5, нет')\n",
        "else:\n",
        "  print(list_2)"
      ],
      "metadata": {
        "colab": {
          "base_uri": "https://localhost:8080/"
        },
        "id": "XlF27qcnjm0u",
        "outputId": "d5c9d25d-453c-4a09-c089-1bb2ada6f150"
      },
      "execution_count": 5,
      "outputs": [
        {
          "output_type": "stream",
          "name": "stdout",
          "text": [
            "[10]\n"
          ]
        }
      ]
    },
    {
      "cell_type": "code",
      "source": [
        "# 5. Сортировка в порядке убывания\n",
        "list_1.sort(reverse=True)\n",
        "print(list_1)"
      ],
      "metadata": {
        "colab": {
          "base_uri": "https://localhost:8080/"
        },
        "id": "bhIgrmHqjvCk",
        "outputId": "4aadc15c-8d89-4358-9147-c7028d242ff4"
      },
      "execution_count": 6,
      "outputs": [
        {
          "output_type": "stream",
          "name": "stdout",
          "text": [
            "[19, 16, 13, 10, 7, 4, 1]\n"
          ]
        }
      ]
    },
    {
      "cell_type": "code",
      "source": [
        "# 6 map()\n",
        "list_1 = list(range(1,20,3))\n",
        "squared = map(lambda num: num ** 2, list_1)\n",
        "list_2 = list(squared)\n",
        "print(list_2)\n",
        "# 6 pow()  \n",
        "list_2 = [pow(num, 2) for num in list_1]\n",
        "print(list_2)"
      ],
      "metadata": {
        "colab": {
          "base_uri": "https://localhost:8080/"
        },
        "id": "-uv5IgiOj0UU",
        "outputId": "788c5f8e-f4ef-4d73-dbec-0e16189fc283"
      },
      "execution_count": 7,
      "outputs": [
        {
          "output_type": "stream",
          "name": "stdout",
          "text": [
            "[1, 16, 49, 100, 169, 256, 361]\n",
            "[1, 16, 49, 100, 169, 256, 361]\n"
          ]
        }
      ]
    },
    {
      "cell_type": "code",
      "source": [
        "# 7 срезы, вывод в обратном порядке\n",
        "print(list_1[::-1])"
      ],
      "metadata": {
        "colab": {
          "base_uri": "https://localhost:8080/"
        },
        "id": "3baaKCooj58d",
        "outputId": "377611a1-f054-497c-9af1-1e5ab4a516fb"
      },
      "execution_count": 8,
      "outputs": [
        {
          "output_type": "stream",
          "name": "stdout",
          "text": [
            "[19, 16, 13, 10, 7, 4, 1]\n"
          ]
        }
      ]
    },
    {
      "cell_type": "code",
      "source": [
        "# 8 Рассчет для элементов списка выборочного среднего.\n",
        "list_sum = sum(list_1)/len(list_1)\n",
        "print(list_sum)\n"
      ],
      "metadata": {
        "colab": {
          "base_uri": "https://localhost:8080/"
        },
        "id": "EqXH2toLlJf_",
        "outputId": "5dad0ea7-b56d-4f7c-e5f1-280230dd47f9"
      },
      "execution_count": 9,
      "outputs": [
        {
          "output_type": "stream",
          "name": "stdout",
          "text": [
            "10.0\n"
          ]
        }
      ]
    },
    {
      "cell_type": "markdown",
      "metadata": {
        "id": "FOWS9wgh_UXf"
      },
      "source": [
        "**Задание 2**. Работа с множествами\n",
        "\n",
        "Задание. Имеются два списка элементов `[1, 1, 2, 3, 1]` и `[1, 1, 1, 2]`. Необходимо:\n",
        "- создать два множества с помощью метода `set()`. Обратите внимание на особенность работы этого метода;\n",
        "- с полученными множествами реализовать операции объединения, пересечения, разности. Посмотреть примеры можно [здесь](https://pythontutor.ru/lessons/sets/).\n",
        "\n",
        "Задание. Имеется строка `'некоторый текст'`. Переведите ее в множество. Обратите внимание на результат. "
      ]
    },
    {
      "cell_type": "code",
      "execution_count": 10,
      "metadata": {
        "id": "grG2FmaW_Tbk",
        "colab": {
          "base_uri": "https://localhost:8080/"
        },
        "outputId": "1d9b0e1e-45ed-4612-c4b3-db501efafaee"
      },
      "outputs": [
        {
          "output_type": "stream",
          "name": "stdout",
          "text": [
            "{1, 2, 3}\n",
            "{1, 2}\n"
          ]
        }
      ],
      "source": [
        "# ваше решение здесь\n",
        "lst_one = [1, 1, 2, 3, 1]\n",
        "lst_two = [1, 1, 1, 2]\n",
        "multiple_one = set(lst_one)\n",
        "multiple_two = set(lst_two)\n",
        "print(multiple_one)\n",
        "print(multiple_two)"
      ]
    },
    {
      "cell_type": "code",
      "source": [
        "# объединение \n",
        "multiple_union = multiple_one.union(multiple_two)\n",
        "print(multiple_union)"
      ],
      "metadata": {
        "colab": {
          "base_uri": "https://localhost:8080/"
        },
        "id": "jjwI9iUct908",
        "outputId": "c6171d7a-a3f2-4a3d-fd77-e4c64968d345"
      },
      "execution_count": 11,
      "outputs": [
        {
          "output_type": "stream",
          "name": "stdout",
          "text": [
            "{1, 2, 3}\n"
          ]
        }
      ]
    },
    {
      "cell_type": "code",
      "source": [
        "# Пересечение\n",
        "multiple_intersection = multiple_one.intersection(multiple_two)\n",
        "print(multiple_intersection)"
      ],
      "metadata": {
        "colab": {
          "base_uri": "https://localhost:8080/"
        },
        "id": "45IJSatHueaY",
        "outputId": "7f85c68c-37d6-4642-c92c-33111cc89a18"
      },
      "execution_count": 12,
      "outputs": [
        {
          "output_type": "stream",
          "name": "stdout",
          "text": [
            "{1, 2}\n"
          ]
        }
      ]
    },
    {
      "cell_type": "code",
      "source": [
        "# Разность\n",
        "multiple_difference = multiple_one.difference(multiple_two)\n",
        "print(multiple_difference)"
      ],
      "metadata": {
        "colab": {
          "base_uri": "https://localhost:8080/"
        },
        "id": "EnCbCrAsunCT",
        "outputId": "2c6f455b-19f4-4d42-bc81-33e912084b4f"
      },
      "execution_count": 13,
      "outputs": [
        {
          "output_type": "stream",
          "name": "stdout",
          "text": [
            "{3}\n"
          ]
        }
      ]
    },
    {
      "cell_type": "code",
      "execution_count": 14,
      "metadata": {
        "id": "KFfQT5ZgD7aH",
        "colab": {
          "base_uri": "https://localhost:8080/"
        },
        "outputId": "47a384e5-4510-4e6e-c221-9d107312c53a"
      },
      "outputs": [
        {
          "output_type": "stream",
          "name": "stdout",
          "text": [
            "{'й', 'к', 'ы', 'т', ' ', 'е', 'р', 'о', 'н', 'с'}\n"
          ]
        }
      ],
      "source": [
        "# ваше решение здесь\n",
        "str_some = 'некоторый текст'\n",
        "multiple_some = set(str_some)\n",
        "print(multiple_some)"
      ]
    },
    {
      "cell_type": "markdown",
      "metadata": {
        "id": "FxH996A5FTqy"
      },
      "source": [
        "**Задание 3.** Работа со словарями\n",
        "\n",
        "Задание: Имеются следующие списки\n",
        "```python\n",
        ">>> disc = ['Алгебра', 'Геометрия', 'Топология']\n",
        ">>> student = ['Сидоров', 'Иванов', 'Петров', 'Иванова'] \n",
        ">>> grades_student = [[2, 4, 4], [3, 4, 4], [3, 3, 3], [5, 5, 5]] \n",
        "```\n",
        "Здесь \n",
        "\n",
        "|Список|Комментарий|\n",
        "|--:|:--|\n",
        "|`disc`|Перечень экзаменов по дисциплинам|\n",
        "|`student`|Фамилии студентов|\n",
        "|`grades_student`|Оценки студентов по экзаменам|\n",
        "\n",
        "Необходимо из имеющихся списков:\n",
        "1. С помощью методов `dict()` и `zip()` сформируйте словарь вида\n",
        "```python\n",
        "{'Иванов': [3, 4, 4],\n",
        " 'Иванова': [5, 5, 5],\n",
        " 'Петров': [3, 3, 3],\n",
        " 'Сидоров': [2, 4, 4]}\n",
        "```\n",
        "2. С помощью цикла `for` и метода `enumerate()` cформируйте словарь вида \n",
        "```python\n",
        "{'Иванов': {'Алгебра': 3, 'Геометрия': 4, 'Топология': 4},\n",
        " 'Иванова': {'Алгебра': 5, 'Геометрия': 5, 'Топология': 5},\n",
        " 'Петров': {'Алгебра': 3, 'Геометрия': 3, 'Топология': 3},\n",
        " 'Сидоров': {'Алгебра': 2, 'Геометрия': 4, 'Топология': 4}} \n",
        "```\n",
        "3. В словаре, полученном во 2-м пункте, найдите и распечатайте фамилии <<круглых отличников>> и  студентов, несдавших сессию."
      ]
    },
    {
      "cell_type": "code",
      "execution_count": 15,
      "metadata": {
        "id": "6oonAV3LFS7M"
      },
      "outputs": [],
      "source": [
        "# ваше решение здесь\n",
        "disc = ['Алгебра', 'Геометрия', 'Топология']\n",
        "student = ['Сидоров', 'Иванов', 'Петров', 'Иванова'] \n",
        "grades_stundent = [[2, 4, 4], [3, 4, 4], [3, 3, 3], [5, 5, 5]] "
      ]
    },
    {
      "cell_type": "code",
      "source": [
        "# 1\n",
        "student_dict = dict(zip(student,grades_stundent))\n",
        "sorted_dict = dict(sorted(student_dict.items()))\n",
        "print(sorted_dict)"
      ],
      "metadata": {
        "colab": {
          "base_uri": "https://localhost:8080/"
        },
        "id": "AH1EwN7-wxDU",
        "outputId": "778ef2c5-687e-4edc-ab53-58542efc0a5f"
      },
      "execution_count": 16,
      "outputs": [
        {
          "output_type": "stream",
          "name": "stdout",
          "text": [
            "{'Иванов': [3, 4, 4], 'Иванова': [5, 5, 5], 'Петров': [3, 3, 3], 'Сидоров': [2, 4, 4]}\n"
          ]
        }
      ]
    },
    {
      "cell_type": "code",
      "source": [
        "# 2\n"
      ],
      "metadata": {
        "id": "KjPJTP_5zzsw"
      },
      "execution_count": 17,
      "outputs": []
    },
    {
      "cell_type": "code",
      "source": [
        "# 3"
      ],
      "metadata": {
        "id": "ddeOl4xF9anU"
      },
      "execution_count": 18,
      "outputs": []
    },
    {
      "cell_type": "markdown",
      "metadata": {
        "id": "4eSWFlNc5XHZ"
      },
      "source": [
        "**Задание 4.** Работа со строками\n",
        "\n",
        "Приемы работы со строками:\n",
        "\n",
        "- `len(s)` -- определить длину строки `s`;\n",
        "- `s[i]` -- получить `i`-ый символ строки (нумерация с нуля, `i` -- положительное), в случае отрицательного `i` нумерация идет справа-налево, начиная с `-1`, например, `s[-1]` -- это последний символ строки;\n",
        "- `s[i:j]` -- получить все символы с `i`-го включительно по `j`-ый не включительно;\n",
        "- `s[:i]` -- все символы до `i`-го не включительно;\n",
        "- `s[i:]` -- все символы, начиная с `i`-го включительно;\n",
        "`s[i:j:k]` -- все символы с `i`-го включитель по `j`-ый не включительно с шагом `k`, если шаг отрицательный, то `i` должно указывать на символ стоящий правее, чем `j`;\n",
        "\n",
        "Задание: На вход подается непустая строка. Требуется вывести:\n",
        "1. Третий символ этой строки (считая, что нумерация символов начинается с 1);\n",
        "2. Предпоследний символ этой строки;\n",
        "3. Первые пять символов этой строки;\n",
        "4. Всю строку, кроме последних двух символов;\n",
        "5. Все символы с четными индексами (считая, что индексация начинается с 0);\n",
        "6. Все символы с нечетными индексами (считая, что индексация начинается с 0);\n",
        "7. Все символы в обратном порядке;\n",
        "8. Все символы строки через один в обратном порядке, начиная с последнего;\n",
        "9. Длину данной строки;\n",
        "10. Строку в нижнем регистре;\n",
        "11. Строку в верхнем регистре. "
      ]
    },
    {
      "cell_type": "code",
      "execution_count": 19,
      "metadata": {
        "id": "RP1aRPgPHwoM",
        "colab": {
          "base_uri": "https://localhost:8080/"
        },
        "outputId": "ba2ed67a-625b-4021-8c04-95d1f46579a7"
      },
      "outputs": [
        {
          "output_type": "stream",
          "name": "stdout",
          "text": [
            "и\n"
          ]
        }
      ],
      "source": [
        "#ваше решение здесь\n",
        "text_example = \"Примерный текст\"\n",
        "# Третий символ этой строки\n",
        "print(text_example[2])"
      ]
    },
    {
      "cell_type": "code",
      "source": [
        "# Предпоследний символ\n",
        "print(text_example[-2])"
      ],
      "metadata": {
        "colab": {
          "base_uri": "https://localhost:8080/"
        },
        "id": "Td-c6mDL5wF_",
        "outputId": "9d3e8f73-3914-42fe-eae5-e13efb69406c"
      },
      "execution_count": 20,
      "outputs": [
        {
          "output_type": "stream",
          "name": "stdout",
          "text": [
            "с\n"
          ]
        }
      ]
    },
    {
      "cell_type": "code",
      "source": [
        "# Первые пять символов\n",
        "print(text_example[:5])"
      ],
      "metadata": {
        "colab": {
          "base_uri": "https://localhost:8080/"
        },
        "id": "pzkICufo53tk",
        "outputId": "870f96bf-e8be-4d2a-da17-059fc4897adf"
      },
      "execution_count": 21,
      "outputs": [
        {
          "output_type": "stream",
          "name": "stdout",
          "text": [
            "Приме\n"
          ]
        }
      ]
    },
    {
      "cell_type": "code",
      "source": [
        "# Всю строку, кроме последних двух символов\n",
        "print(text_example[:-2])"
      ],
      "metadata": {
        "colab": {
          "base_uri": "https://localhost:8080/"
        },
        "id": "QjyYq-Ig6LrH",
        "outputId": "bb612e44-56f7-40c0-c92a-169cc3d0e98a"
      },
      "execution_count": 22,
      "outputs": [
        {
          "output_type": "stream",
          "name": "stdout",
          "text": [
            "Примерный тек\n"
          ]
        }
      ]
    },
    {
      "cell_type": "code",
      "source": [
        "# Все символы с четными индексами"
      ],
      "metadata": {
        "id": "rIj9TfeL6_mL"
      },
      "execution_count": 23,
      "outputs": []
    },
    {
      "cell_type": "code",
      "source": [
        "# Все символы с нечетными индексами"
      ],
      "metadata": {
        "id": "lhWsd6_z7Ewl"
      },
      "execution_count": 24,
      "outputs": []
    },
    {
      "cell_type": "code",
      "source": [
        "#Все символы в обратном порядке\n",
        "print(text_example[::-1])"
      ],
      "metadata": {
        "colab": {
          "base_uri": "https://localhost:8080/"
        },
        "id": "7KaUcXjF6d7C",
        "outputId": "52623cee-6988-472e-b4dd-e7e21f21d883"
      },
      "execution_count": 25,
      "outputs": [
        {
          "output_type": "stream",
          "name": "stdout",
          "text": [
            "тскет йынремирП\n"
          ]
        }
      ]
    },
    {
      "cell_type": "code",
      "source": [
        "# Все символы строки через один в обратном порядке, начиная с последнего\n",
        "print(text_example[::-2])"
      ],
      "metadata": {
        "colab": {
          "base_uri": "https://localhost:8080/"
        },
        "id": "KdClJHnm7MRN",
        "outputId": "acc59b3f-9286-43d4-d0f8-279d27eb06ad"
      },
      "execution_count": 26,
      "outputs": [
        {
          "output_type": "stream",
          "name": "stdout",
          "text": [
            "тктйнеиП\n"
          ]
        }
      ]
    },
    {
      "cell_type": "code",
      "source": [
        "# Длина данной строки\n",
        "print(len(text_example))"
      ],
      "metadata": {
        "colab": {
          "base_uri": "https://localhost:8080/"
        },
        "id": "Id07kgnt7yaI",
        "outputId": "3b217982-85ee-4705-bf95-45768ad0e908"
      },
      "execution_count": 27,
      "outputs": [
        {
          "output_type": "stream",
          "name": "stdout",
          "text": [
            "15\n"
          ]
        }
      ]
    },
    {
      "cell_type": "code",
      "source": [
        "# Строка в нижнем регистре\n",
        "print(text_example.lower())"
      ],
      "metadata": {
        "colab": {
          "base_uri": "https://localhost:8080/"
        },
        "id": "9nsK0m5s7_-U",
        "outputId": "8e8a4120-e8b6-4806-8fed-333751fb1143"
      },
      "execution_count": 28,
      "outputs": [
        {
          "output_type": "stream",
          "name": "stdout",
          "text": [
            "примерный текст\n"
          ]
        }
      ]
    },
    {
      "cell_type": "code",
      "source": [
        "# Строка в верхнем регистре\n",
        "print(text_example.upper())"
      ],
      "metadata": {
        "colab": {
          "base_uri": "https://localhost:8080/"
        },
        "id": "iV2kvxbG8XSL",
        "outputId": "8c901856-bafd-4dc6-dcfc-a44d5d9dd1a3"
      },
      "execution_count": 29,
      "outputs": [
        {
          "output_type": "stream",
          "name": "stdout",
          "text": [
            "ПРИМЕРНЫЙ ТЕКСТ\n"
          ]
        }
      ]
    },
    {
      "cell_type": "markdown",
      "metadata": {
        "id": "UOK5wCKb944s"
      },
      "source": [
        "Задание: На вход подается неочищенный текст. Необходимо:\n",
        "- привести текст к нижнему регистру;\n",
        "- убрать спецсимволы и знаки пунктуации --- ['#', '$', '%', '?', ':', ':', \",\" \".\", '-', \"!\"]."
      ]
    },
    {
      "cell_type": "code",
      "execution_count": 30,
      "metadata": {
        "id": "koqPXsk0H4D9"
      },
      "outputs": [],
      "source": [
        "#ваше решение здесь"
      ]
    },
    {
      "cell_type": "markdown",
      "metadata": {
        "id": "LnyW8hRWEnlP"
      },
      "source": [
        "**Задание 5.** Распаковка последовательности в отдельные переменные.\n",
        "\n",
        "Комментарий: любая последовательность (или итерируемый объект) может быть распакована в переменные с помощью простого присваивания. Единственное обязательное условие заключается в том, чтобы количество и структура переменных совпадали с таковыми у последовательности.\n",
        "\n",
        "Задание: для студента имеется запись\n",
        "```python\n",
        "student = ('Иванов','Иван', 1998, [4, 2, 5, 5, 5, 'зачтено', 'зачтено', 'не зачтено'])`\n",
        "```\n",
        "\n",
        "Здесь \n",
        "\n",
        "|Значение запаси|Комментарий|\n",
        "|--:|:--|\n",
        "|`Иванов`|Фамилия студента|\n",
        "|`Иван`|Имя студента|\n",
        "|`1998`|Год рождения|\n",
        "|[...]|Результаты сессии|\n",
        "\n",
        "Для студента требуется вывести следующие сведения:\n",
        "\n",
        "1. Сколько лет нашему студенту, если сейчас 2022 год. \n",
        "Формат вывода: Иван Иванов -- 24 года.  \n",
        "2. Сдал ли наш студент сессию? Примечание: сессия считается несданной, если имеется хотя бы одна `2` или `не зачтено`. \n",
        "Формат вывода: Иван Иванов -- сессия не сдана. \n",
        "3. Какой процент `5` у нашего студента.\n",
        "Формат вывода: Иван Иванов -- 60% дисциплин, сданных на 5.\n",
        "\n",
        "Комментарий: распакуйте нашу запись в 4 переменные. Попробуйте форматировать вывод с помощью метода `format()`. Вот [здесь](https://pythonru.com/osnovy/formatirovanie-v-python-s-pomoshhju-format) можно найти хорошее описание этого метода. "
      ]
    },
    {
      "cell_type": "code",
      "execution_count": 31,
      "metadata": {
        "id": "3HzPwDbZ-i7b"
      },
      "outputs": [],
      "source": [
        "# ваше решение здесь"
      ]
    },
    {
      "cell_type": "markdown",
      "metadata": {
        "id": "E5d_68UJPKin"
      },
      "source": [
        "**Задание 6.** Создание функций\n",
        "\n",
        "Реализуйте математическую функцию сигнума `sgn(x)`. Она определяется так:\n",
        "\n",
        "$$\n",
        "sgn(x) = \n",
        "\\left\\{\n",
        "  \\begin{array}{l}\n",
        "  1, \\quad \\text{если } \\, x>0,\\\\\n",
        "  0, \\quad \\text{если } x=0,\\\\\n",
        "  -1,  \\text{ если } x<0.\n",
        "  \\end{array} \n",
        "\\right.\n",
        "$$\n",
        "\n",
        "Функция должна возвращать кортеж вида $(x,y)$.\n",
        "\n",
        "Пример работы функции:\n",
        "```python\n",
        ">>> sgn(10)\n",
        "(10,1)\n",
        "```"
      ]
    },
    {
      "cell_type": "code",
      "execution_count": 32,
      "metadata": {
        "id": "ZoW0yQK39CDr"
      },
      "outputs": [],
      "source": [
        "# ваше решение здесь\n",
        "import math\n",
        "print(math.copysign(x,y))"
      ]
    }
  ],
  "metadata": {
    "colab": {
      "collapsed_sections": [],
      "name": "dop_hw_1.ipynb",
      "provenance": [],
      "include_colab_link": true
    },
    "kernelspec": {
      "display_name": "Python 3 (ipykernel)",
      "language": "python",
      "name": "python3"
    },
    "language_info": {
      "codemirror_mode": {
        "name": "ipython",
        "version": 3
      },
      "file_extension": ".py",
      "mimetype": "text/x-python",
      "name": "python",
      "nbconvert_exporter": "python",
      "pygments_lexer": "ipython3",
      "version": "3.9.7"
    }
  },
  "nbformat": 4,
  "nbformat_minor": 0
}