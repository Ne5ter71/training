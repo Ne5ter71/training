{
  "nbformat": 4,
  "nbformat_minor": 0,
  "metadata": {
    "colab": {
      "name": "hw_1_nesmeyanov.ipynb",
      "provenance": [],
      "collapsed_sections": [],
      "include_colab_link": true
    },
    "kernelspec": {
      "name": "python3",
      "display_name": "Python 3"
    },
    "language_info": {
      "name": "python"
    }
  },
  "cells": [
    {
      "cell_type": "markdown",
      "metadata": {
        "id": "view-in-github",
        "colab_type": "text"
      },
      "source": [
        "<a href=\"https://colab.research.google.com/github/Ne5ter71/training/blob/Main/hw_1_nesmeyanov.ipynb\" target=\"_parent\"><img src=\"https://colab.research.google.com/assets/colab-badge.svg\" alt=\"Open In Colab\"/></a>"
      ]
    },
    {
      "cell_type": "markdown",
      "source": [
        "# Практическое задание 1 (обязательное)"
      ],
      "metadata": {
        "id": "I503zPFGLE_E"
      }
    },
    {
      "cell_type": "markdown",
      "source": [
        "## Исходные данные\n",
        "\n",
        "В словаре `dict_users_network` заданы взаимосвязи (`дружба`) пользователей социальной сети, где `ключ` -- имя пользователя; `значение` -- список друзей пользователя. Для простоты будем считать, что оношение `дружба` не является биективным, т.е. если у `A` другом является `B`, то не обязательно, что у `B` в друзьях `A`. \n",
        "\n",
        "## Задание (обязательное) \n",
        "- Создайте функцию, определяющую количество друзей у выбранного (каждого) пользователя.\n",
        "- Создайте функцию, выводящую на экран пользователей, отсортированных по количеству друзей.\n",
        "- Опубликуйте ссылку на файл расширения `ipynb`, прикрепив его в этом задании.\n",
        "\n",
        "## Задание (факультативное)\n",
        "- Создайте функцию, определяющую наличие однофамильцев.\n",
        "- Создайте функцию, определяющую наличие пользователей с одинаковыми инициалами.\n",
        "- Создайте функцию, возвращающую список уникальных пользователей сети в формате `Фамилия И.О.`.\n",
        "- Создайте функцию, возвращающую список из уникальных фамилий  пользователей сети."
      ],
      "metadata": {
        "id": "8KZ0rg8GLYr0"
      }
    },
    {
      "cell_type": "code",
      "source": [
        "dict_users_network = ({\n",
        "    'С.В. Сидоров' : ['П.В. Сидоров', 'И.И. Иванов', 'А.С. Никифоров', \n",
        "                      'Ф.С. Афеногонов', 'А.К. Парфенов'],\n",
        "    'П.В. Сидоров' : ['С.В. Сидоров', 'А.С. Шебалова', 'М.Л. Кривов'],\n",
        "    'И.И. Иванов' : ['Л.Т. Тимофеев', 'С.В. Сидоров', 'П.В. Сидоров', \n",
        "                     'М.Л. Кривов'],\n",
        "    'А.С. Никифоров' : ['С.В. Сидоров', 'П.В. Сидоров'],                 \n",
        "    'Ф.С. Афеногонов' : ['С.В. Сидоров', 'П.В. Сидоров', 'А.К. Парфенов'],\n",
        "    'А.С. Шебалова' : ['Л.Т. Тимофеев'],\n",
        "    'Л.Т. Тимофеев' : ['К.К. Петров', 'А.С. Крылов']\n",
        "                     })"
      ],
      "metadata": {
        "id": "cStt-oHwHQuT"
      },
      "execution_count": 1,
      "outputs": []
    },
    {
      "cell_type": "code",
      "source": [
        "#Ваше решение здесь"
      ],
      "metadata": {
        "id": "KeKoPLM4HQr2"
      },
      "execution_count": 2,
      "outputs": []
    },
    {
      "cell_type": "code",
      "source": [
        "def number_of_friends(name_dict, name_user):\n",
        "    numb_frnds = len(name_dict.setdefault(name_user))\n",
        "    return numb_frnds\n",
        "\n",
        "name_user = str(input())\n",
        "\n",
        "\n",
        "print('У пользователя', name_user, number_of_friends(dict_users_network, name_user), 'друзей')\n",
        "\n"
      ],
      "metadata": {
        "id": "DaOc-JeyOhJV",
        "colab": {
          "base_uri": "https://localhost:8080/"
        },
        "outputId": "2d0491a9-9079-401b-82ea-cf52ce73d13f"
      },
      "execution_count": 3,
      "outputs": [
        {
          "output_type": "stream",
          "name": "stdout",
          "text": [
            "С.В. Сидоров\n",
            "У пользователя С.В. Сидоров 5 друзей\n"
          ]
        }
      ]
    },
    {
      "cell_type": "code",
      "source": [
        "def sort_nmb_frnds(name_dict):\n",
        "  \n",
        "    sorted_dict = sorted(name_dict.items(), key=lambda x: len(x[1]))\n",
        "    \n",
        "    return dict(sorted_dict)\n",
        "\n",
        "print(sort_nmb_frnds(dict_users_network))"
      ],
      "metadata": {
        "colab": {
          "base_uri": "https://localhost:8080/"
        },
        "id": "RjouIlCAMmM-",
        "outputId": "305db92f-53dd-4e7d-81fb-14e0d0a6a4ec"
      },
      "execution_count": 4,
      "outputs": [
        {
          "output_type": "stream",
          "name": "stdout",
          "text": [
            "{'А.С. Шебалова': ['Л.Т. Тимофеев'], 'А.С. Никифоров': ['С.В. Сидоров', 'П.В. Сидоров'], 'Л.Т. Тимофеев': ['К.К. Петров', 'А.С. Крылов'], 'П.В. Сидоров': ['С.В. Сидоров', 'А.С. Шебалова', 'М.Л. Кривов'], 'Ф.С. Афеногонов': ['С.В. Сидоров', 'П.В. Сидоров', 'А.К. Парфенов'], 'И.И. Иванов': ['Л.Т. Тимофеев', 'С.В. Сидоров', 'П.В. Сидоров', 'М.Л. Кривов'], 'С.В. Сидоров': ['П.В. Сидоров', 'И.И. Иванов', 'А.С. Никифоров', 'Ф.С. Афеногонов', 'А.К. Парфенов']}\n"
          ]
        }
      ]
    }
  ]
}