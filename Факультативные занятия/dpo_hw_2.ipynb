{
  "nbformat": 4,
  "nbformat_minor": 0,
  "metadata": {
    "colab": {
      "name": "dpo_hw_2.ipynb",
      "provenance": []
    },
    "kernelspec": {
      "name": "python3",
      "display_name": "Python 3"
    },
    "language_info": {
      "name": "python"
    }
  },
  "cells": [
    {
      "cell_type": "markdown",
      "source": [
        "**Задания предполагают использование только математических операторов**"
      ],
      "metadata": {
        "id": "IubWvMBchjP3"
      }
    },
    {
      "cell_type": "markdown",
      "source": [
        "Задание 1. Дано трехзначное число 249. Найдите сумму его цифр. "
      ],
      "metadata": {
        "id": "K8MEy0mEiBZc"
      }
    },
    {
      "cell_type": "code",
      "source": [
        "x = 249\n",
        "#Ваше решение здесь\n",
        "num = [int(a) for a in str(x)]\n",
        "sum_x = sum(num)\n",
        "print(f'Сумма цифр числа 249 равна -- ', sum_x)#после запятой в виде переменной запишите результат "
      ],
      "metadata": {
        "colab": {
          "base_uri": "https://localhost:8080/"
        },
        "id": "SPz8MwfliBGG",
        "outputId": "61cbbf09-4e3b-46ab-ca55-e8a00bf06e88"
      },
      "execution_count": 1,
      "outputs": [
        {
          "output_type": "stream",
          "name": "stdout",
          "text": [
            "Сумма цифр числа 249 равна --  15\n"
          ]
        }
      ]
    },
    {
      "cell_type": "markdown",
      "source": [
        "Задание 2. Дано число N. С начала суток прошло N минут. Определите, сколько часов и минут будут показывать электронные часы в этот момент. Предполагается, что $N < 1440$."
      ],
      "metadata": {
        "id": "jz2W8zAfi-FJ"
      }
    },
    {
      "cell_type": "code",
      "execution_count": 2,
      "metadata": {
        "id": "OPuC6ijJhQwt",
        "colab": {
          "base_uri": "https://localhost:8080/"
        },
        "outputId": "a8078ab8-2ca1-4668-8eb2-f7a6dd0f6e4d"
      },
      "outputs": [
        {
          "output_type": "stream",
          "name": "stdout",
          "text": [
            "Для определения сколько будут показывать часы введите минуты с начала суток\n",
            "123\n",
            "2 : 3\n"
          ]
        }
      ],
      "source": [
        "#Ваше решение здесь\n",
        "print('Для определения сколько будут показывать часы введите минуты с начала суток')\n",
        "n = int(input())\n",
        "if n < 1440:\n",
        "  n_value = n % 1440\n",
        "  time_hour = n_value // 60\n",
        "  n_value %= 60\n",
        "  time_minute = n_value\n",
        "  print(time_hour, \":\", time_minute)\n",
        "else:\n",
        "  print('В сутках 1440 минут. Введите число меньше 1440')"
      ]
    },
    {
      "cell_type": "markdown",
      "source": [
        "Задание 3. Дано вещественное число. Выведите его дробную часть."
      ],
      "metadata": {
        "id": "ELlTWPe2lVAe"
      }
    },
    {
      "cell_type": "code",
      "source": [
        "#Ваше решение здесь\n",
        "num = float(input())\n",
        "num_2 = round((num - int(num)),3)\n",
        "print(num_2)"
      ],
      "metadata": {
        "id": "YjVqQdHhkxhN",
        "colab": {
          "base_uri": "https://localhost:8080/"
        },
        "outputId": "a91874f2-7dc2-4b7e-9d80-ca8ec34f88b2"
      },
      "execution_count": 16,
      "outputs": [
        {
          "output_type": "stream",
          "name": "stdout",
          "text": [
            "12.8\n",
            "0.8\n"
          ]
        }
      ]
    },
    {
      "cell_type": "markdown",
      "source": [
        "Задание 4. Дано число $N$, соответствующее росту человека в футах. Рассчитайте и выведите рост этого человека в дюймах и сантиметрах.\n",
        "\n",
        "Напомним, что а один фут равен 12 дюймам, а один дюйм – 2.54 см."
      ],
      "metadata": {
        "id": "R910AyZxm3rr"
      }
    },
    {
      "cell_type": "code",
      "source": [
        "#Ваше решение здесь\n",
        "print('Введите рост в футах')\n",
        "growth_human_ft = float(input())\n",
        "growth_human_inch = round(growth_human_ft * 12)\n",
        "growth_human_cm = round(growth_human_inch * 2.54)\n",
        "print('Рост в дюймах', growth_human_inch)\n",
        "print('Рост в сантиметрах', growth_human_cm)"
      ],
      "metadata": {
        "id": "ygdhutzNlYz2",
        "colab": {
          "base_uri": "https://localhost:8080/"
        },
        "outputId": "a7facc52-ddc2-4224-d709-496898b85d15"
      },
      "execution_count": 13,
      "outputs": [
        {
          "output_type": "stream",
          "name": "stdout",
          "text": [
            "Введите рост в футах\n",
            "5.6\n",
            "Рост в дюймах 67\n",
            "Рост в сантиметрах 170\n"
          ]
        }
      ]
    },
    {
      "cell_type": "markdown",
      "source": [
        "Задание 5. Известны координаты двух точек $A(x_1, y_1)$ и $B(x_2, y_2)$ на плоскости. Рассчитайте и выведите расстояние между ними."
      ],
      "metadata": {
        "id": "fkIPB4yOoWsR"
      }
    },
    {
      "cell_type": "code",
      "source": [
        "# Ваше решение здесь\n",
        "x1 = 10\n",
        "y1 = 0.7\n",
        "\n",
        "x2 = 100\n",
        "y2 = 0.1\n",
        "\n",
        "distance_btwn_pnts = (((x2 - x1) ** 2) + ((y2 - y1) ** 2)) ** 0.5\n",
        "print(distance_btwn_pnts)"
      ],
      "metadata": {
        "id": "GstytjGNok4O",
        "colab": {
          "base_uri": "https://localhost:8080/"
        },
        "outputId": "2d33bc26-c009-4b21-c33a-4f8b9b2e5ac6"
      },
      "execution_count": 30,
      "outputs": [
        {
          "output_type": "stream",
          "name": "stdout",
          "text": [
            "90.00199997777827\n"
          ]
        }
      ]
    },
    {
      "cell_type": "markdown",
      "source": [
        "Задание 6. Вершины треугольника имеют следующие координаты $A(x1,y1)$, $B(x2,y2)$ и $С(x2,y2)$. Рассчитайте и выведите площадь этого треугольника."
      ],
      "metadata": {
        "id": "QunH0WI-pdD6"
      }
    },
    {
      "cell_type": "code",
      "source": [
        "# Ваше решение здесь (универсальное)\n",
        "x1 = 0\n",
        "y1 = 0\n",
        "\n",
        "x2 = 4\n",
        "y2 = 0\n",
        "\n",
        "x3 = 0\n",
        "y3 = 3\n",
        "\n",
        "# Вычисление сторон \n",
        "\n",
        "length_1 = (((x2 - x1) ** 2) + ((y2 - y1) ** 2)) ** 0.5\n",
        "length_2 = (((x3 - x2) ** 2) + ((y3 - y2) ** 2)) ** 0.5\n",
        "length_3 = (((x3 - x1) ** 2) + ((y3 - y1) ** 2)) ** 0.5\n",
        "# Вычисление полупериметра\n",
        "\n",
        "semi_perimeter = (length_1 + length_2 + length_3)/2\n",
        "\n",
        "# Вычисление площади\n",
        "triangular_area = (semi_perimeter*(semi_perimeter-length_1)*(semi_perimeter-length_2)*(semi_perimeter-length_3)) ** 0.5\n",
        "\n",
        "print(triangular_area)\n"
      ],
      "metadata": {
        "id": "nn8qNNDSpEeg",
        "colab": {
          "base_uri": "https://localhost:8080/"
        },
        "outputId": "d0c0375a-7509-4402-e420-07349458948f"
      },
      "execution_count": 31,
      "outputs": [
        {
          "output_type": "stream",
          "name": "stdout",
          "text": [
            "6.0\n"
          ]
        }
      ]
    }
  ]
}